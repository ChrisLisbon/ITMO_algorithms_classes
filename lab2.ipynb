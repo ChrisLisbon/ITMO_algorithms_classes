{
 "cells": [
  {
   "cell_type": "markdown",
   "metadata": {},
   "source": [
    "# Лабораторная работа по заданию №  2. Алгоритмы безусловной нелинейной оптимизации. Прямые методы"
   ]
  },
  {
   "cell_type": "code",
   "execution_count": 109,
   "metadata": {},
   "outputs": [],
   "source": [
    "import numpy as np\n",
    "import math\n",
    "import matplotlib.pyplot as plt\n",
    "from scipy.optimize import minimize"
   ]
  },
  {
   "cell_type": "markdown",
   "metadata": {},
   "source": [
    "## I. "
   ]
  },
  {
   "cell_type": "markdown",
   "metadata": {},
   "source": [
    "### Математические функции"
   ]
  },
  {
   "cell_type": "code",
   "execution_count": 89,
   "metadata": {},
   "outputs": [],
   "source": [
    "# x^3\n",
    "def first(x):\n",
    "    return x**3\n",
    "\n",
    "# |𝑥 − 0,2|\n",
    "def second(x):\n",
    "    return abs(x-0.2)\n",
    "\n",
    "#𝑥 𝑠𝑖𝑛 1/𝑥\n",
    "def third(x):\n",
    "    return x*math.sin(1/x)  \n"
   ]
  },
  {
   "cell_type": "markdown",
   "metadata": {},
   "source": [
    "### Методы поиска 𝑥: 𝑓(𝑥) → 𝑚𝑖𝑛 "
   ]
  },
  {
   "cell_type": "code",
   "execution_count": 90,
   "metadata": {},
   "outputs": [],
   "source": [
    "def iteration(a, b, eps, func):\n",
    "    args = np.arange(a,b,eps)\n",
    "    iterations=0\n",
    "    x=args[0]\n",
    "    value=func(x)\n",
    "    func_iter=1\n",
    "    i = 1\n",
    "    while i < np.size(args):\n",
    "        if(func(args[i-1])<value):\n",
    "            x = args[i-1] \n",
    "            value = func(args[i-1])\n",
    "            func_iter+=1\n",
    "        i=i+1\n",
    "        iterations+=1\n",
    "    return x, func(x), iterations, func_iter\n",
    "\n",
    "def dyhotomy(a,b, eps, func):\n",
    "    mid = (a+b)/2\n",
    "    iterations=0\n",
    "    func_iter=0\n",
    "    while abs(func(b)-func(a)) > eps:\n",
    "        func_iter+=2\n",
    "        if func(a)>func(mid):\n",
    "            a=mid\n",
    "            mid=(a+b)/2### Математические функции\n",
    "        elif func(b)>func(mid):\n",
    "            b=mid\n",
    "            mid=(a+b)/2\n",
    "        iterations+=1\n",
    "    if func(a)>func(mid):\n",
    "        a=mid\n",
    "        mid=(a+b)/2\n",
    "    elif func(b)>func(mid):\n",
    "        b=mid\n",
    "        mid=(a+b)/2\n",
    "    iterations+=1\n",
    "    func_iter+=1\n",
    "    return mid, func(mid), iterations, func_iter\n",
    "\n",
    "def goldenSectionSearch(a, b, eps, func):\n",
    "    phi = (1 + pow(5, 1/2)) / 2\n",
    "    resphi = 2 - phi\n",
    "    x1 = a + resphi * (b - a)\n",
    "    x2 = b - resphi * (b - a)\n",
    "    f1 = func(x1)\n",
    "    f2 = func(x2)\n",
    "    iterations=0\n",
    "    func_iter=2\n",
    "    while abs(b - a) > eps:\n",
    "        if f1 < f2:\n",
    "            b = x2\n",
    "            x2 = x1\n",
    "            f2 = f1\n",
    "            x1 = a + resphi * (b - a)\n",
    "            f1 = func(x1)\n",
    "        else:\n",
    "            a = x1\n",
    "            x1 = x2\n",
    "            f1 = f2\n",
    "            x2 = b - resphi * (b - a)\n",
    "            f2 = func(x2)\n",
    "        iterations+=1\n",
    "        func_iter+=1\n",
    "    if f1 < f2:\n",
    "        b = x2\n",
    "        x2 = x1\n",
    "        f2 = f1\n",
    "        x1 = a + resphi * (b - a)\n",
    "        f1 = func(x1)\n",
    "    else:\n",
    "        a = x1\n",
    "        x1 = x2\n",
    "        f1 = f2\n",
    "        x2 = b - resphi * (b - a)\n",
    "        f2 = func(x2)\n",
    "    x=(x1 + x2) / 2\n",
    "    iterations+=1\n",
    "    func_iter+=1\n",
    "    return x, func(x), iterations, func_iter"
   ]
  },
  {
   "cell_type": "markdown",
   "metadata": {},
   "source": [
    "### Вывод результатов"
   ]
  },
  {
   "cell_type": "code",
   "execution_count": 92,
   "metadata": {
    "scrolled": true
   },
   "outputs": [
    {
     "name": "stdout",
     "output_type": "stream",
     "text": [
      "Метод итераций:\n",
      "(0.0, 0.0, 1000, 1)\n",
      "(0.2, 0.0, 1000, 201)\n",
      "(0.22299999999999984, -0.21722461258083448, 990, 69)\n",
      "\n",
      "Метод дихотомии:\n",
      "(0.015625, 3.814697265625e-06, 5, 9)\n",
      "(0.250244140625, 0.05024414062499999, 11, 21)\n",
      "(0.25756042480468755, -0.17385836147520317, 13, 25)\n",
      "\n",
      "Метод золотого сечения:\n",
      "(0.00022655192689241074, 1.1627953356593818e-11, 16, 18)\n",
      "(0.1999332969525494, 6.67030474506003e-05, 16, 18)\n",
      "(0.22258097699647733, -0.21723358052922428, 16, 18)\n"
     ]
    }
   ],
   "source": [
    "print('Метод итераций:')\n",
    "print(iteration(0, 1.001, 0.001, first))\n",
    "print(iteration(0, 1.001, 0.001, second))\n",
    "print(iteration(0.01, 1.001, 0.001, third))\n",
    "print('\\nМетод дихотомии:')\n",
    "print(dyhotomy(0, 1, 0.001, first))\n",
    "print(dyhotomy(0, 1, 0.001, second))\n",
    "print(dyhotomy(0.01, 1, 0.001, third))\n",
    "print('\\nМетод золотого сечения:')\n",
    "print(goldenSectionSearch(0, 1, 0.001, first))\n",
    "print(goldenSectionSearch(0, 1, 0.001, second))\n",
    "print(goldenSectionSearch(0.01, 1, 0.001, third))"
   ]
  },
  {
   "cell_type": "markdown",
   "metadata": {},
   "source": [
    "## II. "
   ]
  },
  {
   "cell_type": "code",
   "execution_count": 116,
   "metadata": {},
   "outputs": [
    {
     "name": "stdout",
     "output_type": "stream",
     "text": [
      "Warning: Maximum number of function evaluations has been exceeded.\n"
     ]
    },
    {
     "data": {
      "image/png": "[encoded data removed]",
      "text/plain": [
       "<Figure size 1008x432 with 1 Axes>"
      ]
     },
     "metadata": {
      "needs_background": "light"
     },
     "output_type": "display_data"
    }
   ],
   "source": [
    "a=np.random.random()\n",
    "b=np.random.random()\n",
    "x_array=[]\n",
    "y_array=[]\n",
    "lin_y_array=[]\n",
    "rat_y_array=[]\n",
    "\n",
    "for i in range (100):\n",
    "    sigma=np.random.normal()\n",
    "    x=i/100\n",
    "    y=a*x+b+sigma\n",
    "    lin_approx_y=a*x+b\n",
    "    rat_approx_y=a/(1+b*x)\n",
    "    \n",
    "    x_array.append(x)\n",
    "    y_array.append(y)\n",
    "    lin_y_array.append(lin_approx_y)\n",
    "    rat_y_array.append(rat_approx_y)\n",
    "\n",
    "def function(approx_array, y_array):\n",
    "    summ=0\n",
    "    for i in range (len(x_array)):\n",
    "        summ=summ+(approx_array[i]-y_array[i])**2\n",
    "    return summ\n",
    "\n",
    "res = minimize(function, lin_y_array, y_array, method='nelder-mead',\n",
    "    options={'xtol': 1e-8, 'disp': True})\n",
    "aa=res.x\n",
    "\n",
    "\n",
    "plt.rcParams['figure.figsize'] = [14, 6]\n",
    "fig, ax = plt.subplots()\n",
    "ax.plot(x_array, lin_y_array)\n",
    "ax.scatter(x_array, y_array, color='yellow')\n",
    "ax.set(xlabel='x', ylabel='y',title='title')\n",
    "ax.grid()\n",
    "plt.show()"
   ]
  },
  {
   "cell_type": "code",
   "execution_count": null,
   "metadata": {},
   "outputs": [],
   "source": []
  }
 ],
 "metadata": {
  "kernelspec": {
   "display_name": "Python 3",
   "language": "python",
   "name": "python3"
  },
  "language_info": {
   "codemirror_mode": {
    "name": "ipython",
    "version": 3
   },
   "file_extension": ".py",
   "mimetype": "text/x-python",
   "name": "python",
   "nbconvert_exporter": "python",
   "pygments_lexer": "ipython3",
   "version": "3.8.3"
  }
 },
 "nbformat": 4,
 "nbformat_minor": 4
}
