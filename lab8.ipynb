{
 "cells": [
  {
   "cell_type": "markdown",
   "metadata": {},
   "source": [
    "# Лабораторная работа по заданию №  8. Практический анализ современных алгоритмов"
   ]
  },
  {
   "cell_type": "markdown",
   "metadata": {},
   "source": [
    "## Раздел 4 - Разделяй и властвуй. 4.1. Задача поиска максимального подмассива"
   ]
  },
  {
   "cell_type": "code",
   "execution_count": 39,
   "metadata": {},
   "outputs": [],
   "source": [
    "import matplotlib.pyplot as plt"
   ]
  },
  {
   "cell_type": "code",
   "execution_count": 154,
   "metadata": {},
   "outputs": [],
   "source": [
    "def find_max_crossing_subarray(A, low, mid, high):\n",
    "    print(low, mid, high)\n",
    "    left_sum = float(\"-inf\")\n",
    "    summ = 0\n",
    "    for i in reversed(range(low, mid+1)):  \n",
    "        print(i)\n",
    "        summ = summ+A[i]\n",
    "        print('sum:'+str(summ))\n",
    "        if summ > left_sum:\n",
    "            left_sum = summ\n",
    "            max_left = i\n",
    "    right_sum = float(\"-inf\")\n",
    "    summ=0\n",
    "    print(mid+1, high)\n",
    "    for j in range(mid+1, high):\n",
    "        print(j)\n",
    "        summ=summ+A[j]\n",
    "        print('sum:'+str(summ))\n",
    "        if summ>right_sum:\n",
    "            right_sum=summ\n",
    "            max_right=j\n",
    "    return (max_left, max_right, left_sum+right_sum)\n",
    "\n",
    "def find_maximum_subarray(A, low, high):\n",
    "    print(low, high)\n",
    "    if high==low:\n",
    "        print('high==low')\n",
    "        print(low)\n",
    "        return (low, high, A[int(low)])\n",
    "    else:  \n",
    "        print('high!=low')\n",
    "        mid=(low+high)//2\n",
    "        left_low, left_high, left_sum = find_maximum_subarray(A, low, mid)\n",
    "        right_low, right_high, right_sum = find_maximum_subarray(A, mid+1, high)\n",
    "        cross_low, cross_high, cross_sum = find_max_crossing_subarray(A, low, mid, high)\n",
    "        if (left_sum>=right_sum) and (left_sum>=cross_sum):\n",
    "            return (left_low, left_high, left_sum)\n",
    "        elif (right_sum>=left_sum) and (right_sum>=cross_sum):\n",
    "            return right_low, right_high, right_sum\n",
    "        else:\n",
    "            return cross_low, cross_high, cross_sum"
   ]
  },
  {
   "cell_type": "code",
   "execution_count": 153,
   "metadata": {},
   "outputs": [
    {
     "name": "stdout",
     "output_type": "stream",
     "text": [
      "1 16\n",
      "high!=low\n",
      "1 8\n",
      "high!=low\n",
      "1 4\n",
      "high!=low\n",
      "1 2\n",
      "high!=low\n",
      "1 1\n",
      "high==low\n",
      "1\n",
      "2 2\n",
      "high==low\n",
      "2\n",
      "1 1 2\n",
      "1\n",
      "sum:13\n",
      "2 2\n"
     ]
    },
    {
     "ename": "UnboundLocalError",
     "evalue": "local variable 'max_right' referenced before assignment",
     "output_type": "error",
     "traceback": [
      "\u001b[0;31m---------------------------------------------------------------------------\u001b[0m",
      "\u001b[0;31mUnboundLocalError\u001b[0m                         Traceback (most recent call last)",
      "\u001b[0;32m<ipython-input-153-4567ce076d9a>\u001b[0m in \u001b[0;36m<module>\u001b[0;34m\u001b[0m\n\u001b[1;32m      1\u001b[0m \u001b[0mA\u001b[0m\u001b[0;34m=\u001b[0m\u001b[0;34m[\u001b[0m\u001b[0;36m13\u001b[0m\u001b[0;34m,\u001b[0m \u001b[0;34m-\u001b[0m\u001b[0;36m3\u001b[0m\u001b[0;34m,\u001b[0m \u001b[0;34m-\u001b[0m\u001b[0;36m25\u001b[0m\u001b[0;34m,\u001b[0m \u001b[0;36m20\u001b[0m\u001b[0;34m,\u001b[0m \u001b[0;34m-\u001b[0m\u001b[0;36m3\u001b[0m\u001b[0;34m,\u001b[0m \u001b[0;34m-\u001b[0m\u001b[0;36m16\u001b[0m\u001b[0;34m,\u001b[0m \u001b[0;34m-\u001b[0m\u001b[0;36m23\u001b[0m\u001b[0;34m,\u001b[0m \u001b[0;36m18\u001b[0m\u001b[0;34m,\u001b[0m \u001b[0;36m20\u001b[0m\u001b[0;34m,\u001b[0m \u001b[0;34m-\u001b[0m\u001b[0;36m7\u001b[0m\u001b[0;34m,\u001b[0m \u001b[0;36m12\u001b[0m\u001b[0;34m,\u001b[0m \u001b[0;34m-\u001b[0m\u001b[0;36m5\u001b[0m\u001b[0;34m,\u001b[0m \u001b[0;34m-\u001b[0m\u001b[0;36m22\u001b[0m\u001b[0;34m,\u001b[0m \u001b[0;36m15\u001b[0m\u001b[0;34m,\u001b[0m \u001b[0;34m-\u001b[0m\u001b[0;36m4\u001b[0m\u001b[0;34m,\u001b[0m \u001b[0;36m7\u001b[0m\u001b[0;34m]\u001b[0m\u001b[0;34m\u001b[0m\u001b[0;34m\u001b[0m\u001b[0m\n\u001b[0;32m----> 2\u001b[0;31m \u001b[0mprint\u001b[0m\u001b[0;34m(\u001b[0m\u001b[0mfind_maximum_subarray\u001b[0m\u001b[0;34m(\u001b[0m\u001b[0mA\u001b[0m\u001b[0;34m,\u001b[0m \u001b[0;36m1\u001b[0m\u001b[0;34m,\u001b[0m \u001b[0mlen\u001b[0m\u001b[0;34m(\u001b[0m\u001b[0mA\u001b[0m\u001b[0;34m)\u001b[0m\u001b[0;34m)\u001b[0m\u001b[0;34m)\u001b[0m\u001b[0;34m\u001b[0m\u001b[0;34m\u001b[0m\u001b[0m\n\u001b[0m\u001b[1;32m      3\u001b[0m \u001b[0;31m#print(find_max_crossing_subarray(A, 0, (len(A)+1)//2, len(A)))\u001b[0m\u001b[0;34m\u001b[0m\u001b[0;34m\u001b[0m\u001b[0;34m\u001b[0m\u001b[0m\n",
      "\u001b[0;32m<ipython-input-152-cc822d864407>\u001b[0m in \u001b[0;36mfind_maximum_subarray\u001b[0;34m(A, low, high)\u001b[0m\n\u001b[1;32m     31\u001b[0m         \u001b[0mprint\u001b[0m\u001b[0;34m(\u001b[0m\u001b[0;34m'high!=low'\u001b[0m\u001b[0;34m)\u001b[0m\u001b[0;34m\u001b[0m\u001b[0;34m\u001b[0m\u001b[0m\n\u001b[1;32m     32\u001b[0m         \u001b[0mmid\u001b[0m\u001b[0;34m=\u001b[0m\u001b[0;34m(\u001b[0m\u001b[0mlow\u001b[0m\u001b[0;34m+\u001b[0m\u001b[0mhigh\u001b[0m\u001b[0;34m)\u001b[0m\u001b[0;34m//\u001b[0m\u001b[0;36m2\u001b[0m\u001b[0;34m\u001b[0m\u001b[0;34m\u001b[0m\u001b[0m\n\u001b[0;32m---> 33\u001b[0;31m         \u001b[0mleft_low\u001b[0m\u001b[0;34m,\u001b[0m \u001b[0mleft_high\u001b[0m\u001b[0;34m,\u001b[0m \u001b[0mleft_sum\u001b[0m \u001b[0;34m=\u001b[0m \u001b[0mfind_maximum_subarray\u001b[0m\u001b[0;34m(\u001b[0m\u001b[0mA\u001b[0m\u001b[0;34m,\u001b[0m \u001b[0mlow\u001b[0m\u001b[0;34m,\u001b[0m \u001b[0mmid\u001b[0m\u001b[0;34m)\u001b[0m\u001b[0;34m\u001b[0m\u001b[0;34m\u001b[0m\u001b[0m\n\u001b[0m\u001b[1;32m     34\u001b[0m         \u001b[0mright_low\u001b[0m\u001b[0;34m,\u001b[0m \u001b[0mright_high\u001b[0m\u001b[0;34m,\u001b[0m \u001b[0mright_sum\u001b[0m \u001b[0;34m=\u001b[0m \u001b[0mfind_maximum_subarray\u001b[0m\u001b[0;34m(\u001b[0m\u001b[0mA\u001b[0m\u001b[0;34m,\u001b[0m \u001b[0mmid\u001b[0m\u001b[0;34m+\u001b[0m\u001b[0;36m1\u001b[0m\u001b[0;34m,\u001b[0m \u001b[0mhigh\u001b[0m\u001b[0;34m)\u001b[0m\u001b[0;34m\u001b[0m\u001b[0;34m\u001b[0m\u001b[0m\n\u001b[1;32m     35\u001b[0m         \u001b[0mcross_low\u001b[0m\u001b[0;34m,\u001b[0m \u001b[0mcross_high\u001b[0m\u001b[0;34m,\u001b[0m \u001b[0mcross_sum\u001b[0m \u001b[0;34m=\u001b[0m \u001b[0mfind_max_crossing_subarray\u001b[0m\u001b[0;34m(\u001b[0m\u001b[0mA\u001b[0m\u001b[0;34m,\u001b[0m \u001b[0mlow\u001b[0m\u001b[0;34m,\u001b[0m \u001b[0mmid\u001b[0m\u001b[0;34m,\u001b[0m \u001b[0mhigh\u001b[0m\u001b[0;34m)\u001b[0m\u001b[0;34m\u001b[0m\u001b[0;34m\u001b[0m\u001b[0m\n",
      "\u001b[0;32m<ipython-input-152-cc822d864407>\u001b[0m in \u001b[0;36mfind_maximum_subarray\u001b[0;34m(A, low, high)\u001b[0m\n\u001b[1;32m     31\u001b[0m         \u001b[0mprint\u001b[0m\u001b[0;34m(\u001b[0m\u001b[0;34m'high!=low'\u001b[0m\u001b[0;34m)\u001b[0m\u001b[0;34m\u001b[0m\u001b[0;34m\u001b[0m\u001b[0m\n\u001b[1;32m     32\u001b[0m         \u001b[0mmid\u001b[0m\u001b[0;34m=\u001b[0m\u001b[0;34m(\u001b[0m\u001b[0mlow\u001b[0m\u001b[0;34m+\u001b[0m\u001b[0mhigh\u001b[0m\u001b[0;34m)\u001b[0m\u001b[0;34m//\u001b[0m\u001b[0;36m2\u001b[0m\u001b[0;34m\u001b[0m\u001b[0;34m\u001b[0m\u001b[0m\n\u001b[0;32m---> 33\u001b[0;31m         \u001b[0mleft_low\u001b[0m\u001b[0;34m,\u001b[0m \u001b[0mleft_high\u001b[0m\u001b[0;34m,\u001b[0m \u001b[0mleft_sum\u001b[0m \u001b[0;34m=\u001b[0m \u001b[0mfind_maximum_subarray\u001b[0m\u001b[0;34m(\u001b[0m\u001b[0mA\u001b[0m\u001b[0;34m,\u001b[0m \u001b[0mlow\u001b[0m\u001b[0;34m,\u001b[0m \u001b[0mmid\u001b[0m\u001b[0;34m)\u001b[0m\u001b[0;34m\u001b[0m\u001b[0;34m\u001b[0m\u001b[0m\n\u001b[0m\u001b[1;32m     34\u001b[0m         \u001b[0mright_low\u001b[0m\u001b[0;34m,\u001b[0m \u001b[0mright_high\u001b[0m\u001b[0;34m,\u001b[0m \u001b[0mright_sum\u001b[0m \u001b[0;34m=\u001b[0m \u001b[0mfind_maximum_subarray\u001b[0m\u001b[0;34m(\u001b[0m\u001b[0mA\u001b[0m\u001b[0;34m,\u001b[0m \u001b[0mmid\u001b[0m\u001b[0;34m+\u001b[0m\u001b[0;36m1\u001b[0m\u001b[0;34m,\u001b[0m \u001b[0mhigh\u001b[0m\u001b[0;34m)\u001b[0m\u001b[0;34m\u001b[0m\u001b[0;34m\u001b[0m\u001b[0m\n\u001b[1;32m     35\u001b[0m         \u001b[0mcross_low\u001b[0m\u001b[0;34m,\u001b[0m \u001b[0mcross_high\u001b[0m\u001b[0;34m,\u001b[0m \u001b[0mcross_sum\u001b[0m \u001b[0;34m=\u001b[0m \u001b[0mfind_max_crossing_subarray\u001b[0m\u001b[0;34m(\u001b[0m\u001b[0mA\u001b[0m\u001b[0;34m,\u001b[0m \u001b[0mlow\u001b[0m\u001b[0;34m,\u001b[0m \u001b[0mmid\u001b[0m\u001b[0;34m,\u001b[0m \u001b[0mhigh\u001b[0m\u001b[0;34m)\u001b[0m\u001b[0;34m\u001b[0m\u001b[0;34m\u001b[0m\u001b[0m\n",
      "\u001b[0;32m<ipython-input-152-cc822d864407>\u001b[0m in \u001b[0;36mfind_maximum_subarray\u001b[0;34m(A, low, high)\u001b[0m\n\u001b[1;32m     31\u001b[0m         \u001b[0mprint\u001b[0m\u001b[0;34m(\u001b[0m\u001b[0;34m'high!=low'\u001b[0m\u001b[0;34m)\u001b[0m\u001b[0;34m\u001b[0m\u001b[0;34m\u001b[0m\u001b[0m\n\u001b[1;32m     32\u001b[0m         \u001b[0mmid\u001b[0m\u001b[0;34m=\u001b[0m\u001b[0;34m(\u001b[0m\u001b[0mlow\u001b[0m\u001b[0;34m+\u001b[0m\u001b[0mhigh\u001b[0m\u001b[0;34m)\u001b[0m\u001b[0;34m//\u001b[0m\u001b[0;36m2\u001b[0m\u001b[0;34m\u001b[0m\u001b[0;34m\u001b[0m\u001b[0m\n\u001b[0;32m---> 33\u001b[0;31m         \u001b[0mleft_low\u001b[0m\u001b[0;34m,\u001b[0m \u001b[0mleft_high\u001b[0m\u001b[0;34m,\u001b[0m \u001b[0mleft_sum\u001b[0m \u001b[0;34m=\u001b[0m \u001b[0mfind_maximum_subarray\u001b[0m\u001b[0;34m(\u001b[0m\u001b[0mA\u001b[0m\u001b[0;34m,\u001b[0m \u001b[0mlow\u001b[0m\u001b[0;34m,\u001b[0m \u001b[0mmid\u001b[0m\u001b[0;34m)\u001b[0m\u001b[0;34m\u001b[0m\u001b[0;34m\u001b[0m\u001b[0m\n\u001b[0m\u001b[1;32m     34\u001b[0m         \u001b[0mright_low\u001b[0m\u001b[0;34m,\u001b[0m \u001b[0mright_high\u001b[0m\u001b[0;34m,\u001b[0m \u001b[0mright_sum\u001b[0m \u001b[0;34m=\u001b[0m \u001b[0mfind_maximum_subarray\u001b[0m\u001b[0;34m(\u001b[0m\u001b[0mA\u001b[0m\u001b[0;34m,\u001b[0m \u001b[0mmid\u001b[0m\u001b[0;34m+\u001b[0m\u001b[0;36m1\u001b[0m\u001b[0;34m,\u001b[0m \u001b[0mhigh\u001b[0m\u001b[0;34m)\u001b[0m\u001b[0;34m\u001b[0m\u001b[0;34m\u001b[0m\u001b[0m\n\u001b[1;32m     35\u001b[0m         \u001b[0mcross_low\u001b[0m\u001b[0;34m,\u001b[0m \u001b[0mcross_high\u001b[0m\u001b[0;34m,\u001b[0m \u001b[0mcross_sum\u001b[0m \u001b[0;34m=\u001b[0m \u001b[0mfind_max_crossing_subarray\u001b[0m\u001b[0;34m(\u001b[0m\u001b[0mA\u001b[0m\u001b[0;34m,\u001b[0m \u001b[0mlow\u001b[0m\u001b[0;34m,\u001b[0m \u001b[0mmid\u001b[0m\u001b[0;34m,\u001b[0m \u001b[0mhigh\u001b[0m\u001b[0;34m)\u001b[0m\u001b[0;34m\u001b[0m\u001b[0;34m\u001b[0m\u001b[0m\n",
      "\u001b[0;32m<ipython-input-152-cc822d864407>\u001b[0m in \u001b[0;36mfind_maximum_subarray\u001b[0;34m(A, low, high)\u001b[0m\n\u001b[1;32m     33\u001b[0m         \u001b[0mleft_low\u001b[0m\u001b[0;34m,\u001b[0m \u001b[0mleft_high\u001b[0m\u001b[0;34m,\u001b[0m \u001b[0mleft_sum\u001b[0m \u001b[0;34m=\u001b[0m \u001b[0mfind_maximum_subarray\u001b[0m\u001b[0;34m(\u001b[0m\u001b[0mA\u001b[0m\u001b[0;34m,\u001b[0m \u001b[0mlow\u001b[0m\u001b[0;34m,\u001b[0m \u001b[0mmid\u001b[0m\u001b[0;34m)\u001b[0m\u001b[0;34m\u001b[0m\u001b[0;34m\u001b[0m\u001b[0m\n\u001b[1;32m     34\u001b[0m         \u001b[0mright_low\u001b[0m\u001b[0;34m,\u001b[0m \u001b[0mright_high\u001b[0m\u001b[0;34m,\u001b[0m \u001b[0mright_sum\u001b[0m \u001b[0;34m=\u001b[0m \u001b[0mfind_maximum_subarray\u001b[0m\u001b[0;34m(\u001b[0m\u001b[0mA\u001b[0m\u001b[0;34m,\u001b[0m \u001b[0mmid\u001b[0m\u001b[0;34m+\u001b[0m\u001b[0;36m1\u001b[0m\u001b[0;34m,\u001b[0m \u001b[0mhigh\u001b[0m\u001b[0;34m)\u001b[0m\u001b[0;34m\u001b[0m\u001b[0;34m\u001b[0m\u001b[0m\n\u001b[0;32m---> 35\u001b[0;31m         \u001b[0mcross_low\u001b[0m\u001b[0;34m,\u001b[0m \u001b[0mcross_high\u001b[0m\u001b[0;34m,\u001b[0m \u001b[0mcross_sum\u001b[0m \u001b[0;34m=\u001b[0m \u001b[0mfind_max_crossing_subarray\u001b[0m\u001b[0;34m(\u001b[0m\u001b[0mA\u001b[0m\u001b[0;34m,\u001b[0m \u001b[0mlow\u001b[0m\u001b[0;34m,\u001b[0m \u001b[0mmid\u001b[0m\u001b[0;34m,\u001b[0m \u001b[0mhigh\u001b[0m\u001b[0;34m)\u001b[0m\u001b[0;34m\u001b[0m\u001b[0;34m\u001b[0m\u001b[0m\n\u001b[0m\u001b[1;32m     36\u001b[0m         \u001b[0;32mif\u001b[0m \u001b[0;34m(\u001b[0m\u001b[0mleft_sum\u001b[0m\u001b[0;34m>=\u001b[0m\u001b[0mright_sum\u001b[0m\u001b[0;34m)\u001b[0m \u001b[0;32mand\u001b[0m \u001b[0;34m(\u001b[0m\u001b[0mleft_sum\u001b[0m\u001b[0;34m>=\u001b[0m\u001b[0mcross_sum\u001b[0m\u001b[0;34m)\u001b[0m\u001b[0;34m:\u001b[0m\u001b[0;34m\u001b[0m\u001b[0;34m\u001b[0m\u001b[0m\n\u001b[1;32m     37\u001b[0m             \u001b[0;32mreturn\u001b[0m \u001b[0;34m(\u001b[0m\u001b[0mleft_low\u001b[0m\u001b[0;34m,\u001b[0m \u001b[0mleft_high\u001b[0m\u001b[0;34m,\u001b[0m \u001b[0mleft_sum\u001b[0m\u001b[0;34m)\u001b[0m\u001b[0;34m\u001b[0m\u001b[0;34m\u001b[0m\u001b[0m\n",
      "\u001b[0;32m<ipython-input-152-cc822d864407>\u001b[0m in \u001b[0;36mfind_max_crossing_subarray\u001b[0;34m(A, low, mid, high)\u001b[0m\n\u001b[1;32m     20\u001b[0m             \u001b[0mright_sum\u001b[0m\u001b[0;34m=\u001b[0m\u001b[0msumm\u001b[0m\u001b[0;34m\u001b[0m\u001b[0;34m\u001b[0m\u001b[0m\n\u001b[1;32m     21\u001b[0m             \u001b[0mmax_right\u001b[0m\u001b[0;34m=\u001b[0m\u001b[0mj\u001b[0m\u001b[0;34m\u001b[0m\u001b[0;34m\u001b[0m\u001b[0m\n\u001b[0;32m---> 22\u001b[0;31m     \u001b[0;32mreturn\u001b[0m \u001b[0;34m(\u001b[0m\u001b[0mmax_left\u001b[0m\u001b[0;34m,\u001b[0m \u001b[0mmax_right\u001b[0m\u001b[0;34m,\u001b[0m \u001b[0mleft_sum\u001b[0m\u001b[0;34m+\u001b[0m\u001b[0mright_sum\u001b[0m\u001b[0;34m)\u001b[0m\u001b[0;34m\u001b[0m\u001b[0;34m\u001b[0m\u001b[0m\n\u001b[0m\u001b[1;32m     23\u001b[0m \u001b[0;34m\u001b[0m\u001b[0m\n\u001b[1;32m     24\u001b[0m \u001b[0;32mdef\u001b[0m \u001b[0mfind_maximum_subarray\u001b[0m\u001b[0;34m(\u001b[0m\u001b[0mA\u001b[0m\u001b[0;34m,\u001b[0m \u001b[0mlow\u001b[0m\u001b[0;34m,\u001b[0m \u001b[0mhigh\u001b[0m\u001b[0;34m)\u001b[0m\u001b[0;34m:\u001b[0m\u001b[0;34m\u001b[0m\u001b[0;34m\u001b[0m\u001b[0m\n",
      "\u001b[0;31mUnboundLocalError\u001b[0m: local variable 'max_right' referenced before assignment"
     ]
    }
   ],
   "source": [
    "A=[13, -3, -25, 20, -3, -16, -23, 18, 20, -7, 12, -5, -22, 15, -4, 7]\n",
    "print(find_maximum_subarray(A, 1, len(A)))\n",
    "#print(find_max_crossing_subarray(A, 0, (len(A)+1)//2, len(A)))"
   ]
  },
  {
   "cell_type": "code",
   "execution_count": null,
   "metadata": {},
   "outputs": [],
   "source": []
  }
 ],
 "metadata": {
  "kernelspec": {
   "display_name": "Python 3",
   "language": "python",
   "name": "python3"
  },
  "language_info": {
   "codemirror_mode": {
    "name": "ipython",
    "version": 3
   },
   "file_extension": ".py",
   "mimetype": "text/x-python",
   "name": "python",
   "nbconvert_exporter": "python",
   "pygments_lexer": "ipython3",
   "version": "3.8.3"
  }
 },
 "nbformat": 4,
 "nbformat_minor": 4
}
