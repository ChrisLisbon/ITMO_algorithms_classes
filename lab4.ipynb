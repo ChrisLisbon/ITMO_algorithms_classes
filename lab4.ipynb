{
 "cells": [
  {
   "cell_type": "markdown",
   "metadata": {},
   "source": [
    "# Лабораторная работа по заданию №  4. Алгоритмы безусловной нелинейной оптимизации. Стохастические и метаэвристические алгоритмы"
   ]
  },
  {
   "cell_type": "code",
   "execution_count": 1,
   "metadata": {},
   "outputs": [],
   "source": [
    "import numpy as np\n",
    "import matplotlib.pyplot as plt\n",
    "from scipy.optimize import minimize, leastsq, basinhopping, differential_evolution"
   ]
  },
  {
   "cell_type": "markdown",
   "metadata": {},
   "source": [
    "### Объявление базовых функций, создание исходного массива"
   ]
  },
  {
   "cell_type": "code",
   "execution_count": 49,
   "metadata": {},
   "outputs": [],
   "source": [
    "x_array=[]\n",
    "y_array=[]\n",
    "\n",
    "def rat_approx(x, a, b, c, d):\n",
    "    return (a*x+b)/(x**2+x*c+d)\n",
    "\n",
    "def main_func(x):\n",
    "    sigma=np.random.normal()    \n",
    "    def f_x_func(x):\n",
    "        return 1/(x**2-3*x+2)    \n",
    "    if f_x_func(x)<-100:\n",
    "        y=-100+sigma\n",
    "    if -100<=f_x_func(x)<=100:\n",
    "        y=f_x_func(x)+sigma    \n",
    "    if f_x_func(x)>100:\n",
    "        y=100+sigma\n",
    "    return y\n",
    "\n",
    "def sq_function_rat(params):\n",
    "    a, b, c, d = params\n",
    "    summ=0\n",
    "    for i in range (1000):\n",
    "        summ=summ+(rat_approx(x_array[i], a, b, c, d)-y_array[i])**2\n",
    "    return summ\n",
    "\n",
    "for i in range (1000):    \n",
    "    x=3*i/1000\n",
    "    y=main_func(x)    \n",
    "    x_array.append(x)\n",
    "    y_array.append(y)"
   ]
  },
  {
   "cell_type": "markdown",
   "metadata": {},
   "source": [
    "### Рациональная аппроксимация с минимизацией методом Нелдера-Мида"
   ]
  },
  {
   "cell_type": "code",
   "execution_count": 50,
   "metadata": {},
   "outputs": [
    {
     "name": "stdout",
     "output_type": "stream",
     "text": [
      "Optimization terminated successfully.\n",
      "         Current function value: 136135.052576\n",
      "         Iterations: 425\n",
      "         Function evaluations: 728\n",
      "\n",
      "Метод Нелдера-Мида:\n",
      "a=-1.0015201774866556, b=1.0020072775923854, c=-2.0009351723237856, d=1.0009514125111734\n"
     ]
    }
   ],
   "source": [
    "params=[0.5, 0.5, 0.5, 0.5]\n",
    "res = minimize(sq_function_rat, params,  method='nelder-mead',\n",
    "    options={'xtol': 0.001, 'disp': True})\n",
    "nm_rat=res.x\n",
    "nm_rat_approx_array=[ rat_approx(x, nm_rat[0], nm_rat[1], nm_rat[2], nm_rat[3]) for x in x_array]\n",
    "print('\\nМетод Нелдера-Мида:\\na='+str(nm_rat[0])+', b='+str(nm_rat[1])+', c='+str(nm_rat[2])+', d='+str(nm_rat[3]))"
   ]
  },
  {
   "cell_type": "markdown",
   "metadata": {},
   "source": [
    "### Рациональная аппроксимация с минимизацией методом Левенбега-Марквардта"
   ]
  },
  {
   "cell_type": "code",
   "execution_count": 51,
   "metadata": {},
   "outputs": [
    {
     "name": "stdout",
     "output_type": "stream",
     "text": [
      "\n",
      "Метод Левенберга-Марквардта:\n",
      "a=-1.0033259087778255, b=1.0037892636356454, c=-2.0008400491713263, d=1.0008563166379763\n",
      "Calculations: 733\n",
      "\n"
     ]
    }
   ],
   "source": [
    "#Переписываю аппроксимирующую функцию, потому что готовый метод не принимает ее в общем виде\n",
    "def sq_function_rat_for_lm(params, x, y):\n",
    "    a = params[0]\n",
    "    b = params[1]\n",
    "    c = params[2]\n",
    "    d = params[3]\n",
    "    return ((a*np.array(x)+b)/(np.array(x)**2+np.array(x)*c+d) - np.array(y))\n",
    "           \n",
    "res=leastsq(sq_function_rat_for_lm, params, args=(x_array, y_array), full_output = True)\n",
    "lm_rat=res[0]\n",
    "lm_rat_approx_array=[rat_approx(x, nm_rat[0], nm_rat[1], nm_rat[2], nm_rat[3]) for x in x_array]\n",
    "print('\\nМетод Левенберга-Марквардта:\\na='+str(lm_rat[0])+', b='+str(lm_rat[1])+', c='+str(lm_rat[2])+', d='+str(lm_rat[3]))\n",
    "print('Calculations: '+str(res[2]['nfev'])+'\\n')"
   ]
  },
  {
   "cell_type": "markdown",
   "metadata": {},
   "source": [
    "### Рациональная аппроксимация с минимизацией методом имитации отжига"
   ]
  },
  {
   "cell_type": "code",
   "execution_count": 52,
   "metadata": {},
   "outputs": [
    {
     "name": "stdout",
     "output_type": "stream",
     "text": [
      "\n",
      "Метод имитации отжига:\n",
      "a=-1.0070511363691121, b=1.0073789698257243, c=-2.000368887690093, d=1.0003852641033937\n",
      "Iterations: 10\n",
      "Evaluations: 6270\n"
     ]
    }
   ],
   "source": [
    "res = basinhopping(sq_function_rat, params, niter=10)\n",
    "bh_rat=res.x\n",
    "bh_rat_approx_array=[ rat_approx(x, bh_rat[0], bh_rat[1], bh_rat[2], bh_rat[3]) for x in x_array]\n",
    "print('\\nМетод имитации отжига:\\na='+str(bh_rat[0])+', b='+str(bh_rat[1])+', c='+str(bh_rat[2])+', d='+str(bh_rat[3]))\n",
    "print('Iterations: '+str(res.nit))\n",
    "print('Evaluations: '+str(res.nfev))"
   ]
  },
  {
   "cell_type": "markdown",
   "metadata": {},
   "source": [
    "### Рациональная аппроксимация с минимизацией методом диффернциальной эволюции"
   ]
  },
  {
   "cell_type": "code",
   "execution_count": 53,
   "metadata": {
    "scrolled": true
   },
   "outputs": [
    {
     "name": "stdout",
     "output_type": "stream",
     "text": [
      "\n",
      "Метод диффернциальной эволюции:\n",
      "a=-1.0, b=0.7756853601645889, c=-1.0, d=0.49811126586678384\n",
      "Iterations: 4\n",
      "Evaluations: 350\n"
     ]
    }
   ],
   "source": [
    "#От указанного диапазона очень сильно зависит насколько будет пойман разрыв искомой функции\n",
    "bounds = [(-1,2), (-1,2), (-1,2), (-1,2)]#Так аппроксимация выглядит как прямая\n",
    "#bounds = [(-2,2), (-2,2), (-2,2), (-2,2)]А так мы ловим разрыв и аппроксимация выглядит как в предыдущих методах\n",
    "res = differential_evolution(sq_function_rat, bounds, maxiter=10)\n",
    "de_rat=res.x\n",
    "de_rat_approx_array=[rat_approx(x, de_rat[0], de_rat[1], de_rat[2], de_rat[3]) for x in x_array]\n",
    "print('\\nМетод диффернциальной эволюции:\\na='+str(de_rat[0])+', b='+str(de_rat[1])+', c='+str(de_rat[2])+', d='+str(de_rat[3]))\n",
    "print('Iterations: '+str(res.nit))\n",
    "print('Evaluations: '+str(res.nfev))\n"
   ]
  },
  {
   "cell_type": "markdown",
   "metadata": {},
   "source": [
    "### Вывод обобщенного графика"
   ]
  },
  {
   "cell_type": "code",
   "execution_count": 54,
   "metadata": {},
   "outputs": [
    {
     "data": {
      "image/png": "[encoded data removed]",
      "text/plain": [
       "<Figure size 1008x432 with 1 Axes>"
      ]
     },
     "metadata": {
      "needs_background": "light"
     },
     "output_type": "display_data"
    }
   ],
   "source": [
    "plt.rcParams['figure.figsize'] = [14, 6]\n",
    "fig, ax = plt.subplots()\n",
    "ax.plot(x_array, nm_rat_approx_array, color='SandyBrown', label='Метод Нелдера-Мида')\n",
    "ax.plot(x_array, lm_rat_approx_array, color='green', label='Метод Левенбега-Марквардта')\n",
    "ax.plot(x_array, de_rat_approx_array, color='blue', label='Метод диффернциальной эволюции')\n",
    "ax.plot(x_array, bh_rat_approx_array, color='red', label='Метод имитации отжига')\n",
    "ax.scatter(x_array, y_array, color='#FFB6C1', label='Сгенерированные данные')\n",
    "leg = plt.legend()\n",
    "ax.set(xlabel='x', ylabel='y',title='Результаты аппроксимации')\n",
    "ax.grid()\n",
    "plt.show()"
   ]
  },
  {
   "cell_type": "code",
   "execution_count": null,
   "metadata": {},
   "outputs": [],
   "source": []
  }
 ],
 "metadata": {
  "kernelspec": {
   "display_name": "Python 3",
   "language": "python",
   "name": "python3"
  },
  "language_info": {
   "codemirror_mode": {
    "name": "ipython",
    "version": 3
   },
   "file_extension": ".py",
   "mimetype": "text/x-python",
   "name": "python",
   "nbconvert_exporter": "python",
   "pygments_lexer": "ipython3",
   "version": "3.8.3"
  }
 },
 "nbformat": 4,
 "nbformat_minor": 4
}
