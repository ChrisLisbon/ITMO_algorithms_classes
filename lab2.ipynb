{
 "cells": [
  {
   "cell_type": "markdown",
   "metadata": {},
   "source": [
    "# Лабораторная работа по заданию №  2. Алгоритмы безусловной нелинейной оптимизации. Прямые методы"
   ]
  },
  {
   "cell_type": "code",
   "execution_count": 1,
   "metadata": {},
   "outputs": [],
   "source": [
    "import numpy as np\n",
    "import math\n",
    "import matplotlib.pyplot as plt\n",
    "from scipy.optimize import minimize, brute, fmin"
   ]
  },
  {
   "cell_type": "markdown",
   "metadata": {},
   "source": [
    "## I. "
   ]
  },
  {
   "cell_type": "markdown",
   "metadata": {},
   "source": [
    "### Математические функции"
   ]
  },
  {
   "cell_type": "code",
   "execution_count": 2,
   "metadata": {},
   "outputs": [],
   "source": [
    "# x^3\n",
    "def first(x):\n",
    "    return x**3\n",
    "\n",
    "# |𝑥 − 0,2|\n",
    "def second(x):\n",
    "    return abs(x-0.2)\n",
    "\n",
    "#𝑥 𝑠𝑖𝑛 1/𝑥\n",
    "def third(x):\n",
    "    return x*math.sin(1/x)  \n"
   ]
  },
  {
   "cell_type": "markdown",
   "metadata": {},
   "source": [
    "### Методы поиска 𝑥: 𝑓(𝑥) → 𝑚𝑖𝑛 "
   ]
  },
  {
   "cell_type": "code",
   "execution_count": 3,
   "metadata": {},
   "outputs": [],
   "source": [
    "def iteration(a, b, eps, func):\n",
    "    args = np.arange(a,b,eps)\n",
    "    iterations=0\n",
    "    x=args[0]\n",
    "    value=func(x)\n",
    "    func_iter=1\n",
    "    i = 1\n",
    "    while i < np.size(args):\n",
    "        if(func(args[i-1])<value):\n",
    "            x = args[i-1] \n",
    "            value = func(args[i-1])            \n",
    "        i=i+1\n",
    "        iterations+=1\n",
    "        func_iter+=1\n",
    "    return x, func(x), iterations, func_iter\n",
    "\n",
    "def dyhotomy(a,b, eps, func):\n",
    "    mid = (a+b)/2\n",
    "    iterations=0\n",
    "    func_iter=0\n",
    "    while abs(func(b)-func(a)) > eps:\n",
    "        func_iter+=2\n",
    "        if func(a)>func(mid):\n",
    "            a=mid\n",
    "            mid=(a+b)/2\n",
    "        elif func(b)>func(mid):\n",
    "            b=mid\n",
    "            mid=(a+b)/2\n",
    "        iterations+=1\n",
    "    if func(a)>func(mid):\n",
    "        a=mid\n",
    "        mid=(a+b)/2\n",
    "    elif func(b)>func(mid):\n",
    "        b=mid\n",
    "        mid=(a+b)/2\n",
    "    iterations+=1\n",
    "    func_iter+=1\n",
    "    return mid, func(mid), iterations, func_iter\n",
    "\n",
    "def goldenSectionSearch(a, b, eps, func):\n",
    "    phi = (1 + pow(5, 1/2)) / 2\n",
    "    resphi = 2 - phi\n",
    "    x1 = a + resphi * (b - a)\n",
    "    x2 = b - resphi * (b - a)\n",
    "    f1 = func(x1)\n",
    "    f2 = func(x2)\n",
    "    iterations=0\n",
    "    func_iter=2\n",
    "    while abs(b - a) > eps:\n",
    "        if f1 < f2:\n",
    "            b = x2\n",
    "            x2 = x1\n",
    "            f2 = f1\n",
    "            x1 = a + resphi * (b - a)\n",
    "            f1 = func(x1)\n",
    "        else:\n",
    "            a = x1\n",
    "            x1 = x2\n",
    "            f1 = f2\n",
    "            x2 = b - resphi * (b - a)\n",
    "            f2 = func(x2)\n",
    "        iterations+=1\n",
    "        func_iter+=1\n",
    "    if f1 < f2:\n",
    "        b = x2\n",
    "        x2 = x1\n",
    "        f2 = f1\n",
    "        x1 = a + resphi * (b - a)\n",
    "        f1 = func(x1)\n",
    "    else:\n",
    "        a = x1\n",
    "        x1 = x2\n",
    "        f1 = f2\n",
    "        x2 = b - resphi * (b - a)\n",
    "        f2 = func(x2)\n",
    "    x=(x1 + x2) / 2\n",
    "    iterations+=1\n",
    "    func_iter+=1\n",
    "    return x, func(x), iterations, func_iter"
   ]
  },
  {
   "cell_type": "markdown",
   "metadata": {},
   "source": [
    "### Вывод результатов"
   ]
  },
  {
   "cell_type": "code",
   "execution_count": 4,
   "metadata": {
    "scrolled": true
   },
   "outputs": [
    {
     "name": "stdout",
     "output_type": "stream",
     "text": [
      "Метод итераций:\n",
      "x=0.0, f(x)=0.0, Количество итераций: 1000, Количество вычислений функции: 1001\n",
      "x=0.2, f(x)=0.0, Количество итераций: 1000, Количество вычислений функции: 1001\n",
      "x=0.22299999999999984, f(x)=-0.21722461258083448, Количество итераций: 990, Количество вычислений функции: 991\n",
      "\n",
      "Метод дихотомии:\n",
      "x=0.015625, f(x)=3.814697265625e-06, Количество итераций: 5, Количество вычислений функции: 9\n",
      "x=0.250244140625, f(x)=0.05024414062499999, Количество итераций: 11, Количество вычислений функции: 21\n",
      "x=0.25756042480468755, f(x)=-0.17385836147520317, Количество итераций: 13, Количество вычислений функции: 25\n",
      "\n",
      "Метод золотого сечения:\n",
      "x=0.00022655192689241074, f(x)=1.1627953356593818e-11, Количество итераций: 16, Количество вычислений функции: 18\n",
      "x=0.1999332969525494, f(x)=6.67030474506003e-05, Количество итераций: 16, Количество вычислений функции: 18\n",
      "x=0.22258097699647733, f(x)=-0.21723358052922428, Количество итераций: 16, Количество вычислений функции: 18\n"
     ]
    }
   ],
   "source": [
    "print('Метод итераций:')\n",
    "r=iteration(0, 1.001, 0.001, first)\n",
    "print('x='+str(r[0])+', f(x)='+str(r[1])+', Количество итераций: '+str(r[2])+', Количество вычислений функции: '+str(r[3]))\n",
    "r=iteration(0, 1.001, 0.001, second)\n",
    "print('x='+str(r[0])+', f(x)='+str(r[1])+', Количество итераций: '+str(r[2])+', Количество вычислений функции: '+str(r[3]))\n",
    "r=iteration(0.01, 1.001, 0.001, third)\n",
    "print('x='+str(r[0])+', f(x)='+str(r[1])+', Количество итераций: '+str(r[2])+', Количество вычислений функции: '+str(r[3]))\n",
    "print('\\nМетод дихотомии:')\n",
    "r=dyhotomy(0, 1, 0.001, first)\n",
    "print('x='+str(r[0])+', f(x)='+str(r[1])+', Количество итераций: '+str(r[2])+', Количество вычислений функции: '+str(r[3]))\n",
    "r=dyhotomy(0, 1, 0.001, second)\n",
    "print('x='+str(r[0])+', f(x)='+str(r[1])+', Количество итераций: '+str(r[2])+', Количество вычислений функции: '+str(r[3]))\n",
    "r=dyhotomy(0.01, 1, 0.001, third)\n",
    "print('x='+str(r[0])+', f(x)='+str(r[1])+', Количество итераций: '+str(r[2])+', Количество вычислений функции: '+str(r[3]))\n",
    "print('\\nМетод золотого сечения:')\n",
    "r=goldenSectionSearch(0, 1, 0.001, first)\n",
    "print('x='+str(r[0])+', f(x)='+str(r[1])+', Количество итераций: '+str(r[2])+', Количество вычислений функции: '+str(r[3]))\n",
    "r=goldenSectionSearch(0, 1, 0.001, second)\n",
    "print('x='+str(r[0])+', f(x)='+str(r[1])+', Количество итераций: '+str(r[2])+', Количество вычислений функции: '+str(r[3]))\n",
    "r=goldenSectionSearch(0.01, 1, 0.001, third)\n",
    "print('x='+str(r[0])+', f(x)='+str(r[1])+', Количество итераций: '+str(r[2])+', Количество вычислений функции: '+str(r[3]))"
   ]
  },
  {
   "cell_type": "markdown",
   "metadata": {},
   "source": [
    "## II. "
   ]
  },
  {
   "cell_type": "markdown",
   "metadata": {},
   "source": [
    "### Объявление базовых функций, создание исходного массива"
   ]
  },
  {
   "cell_type": "code",
   "execution_count": 29,
   "metadata": {},
   "outputs": [],
   "source": [
    "a=np.random.random()\n",
    "b=np.random.random()\n",
    "x_array=[]\n",
    "y_array=[]\n",
    "\n",
    "def lin_approx(x, a, b):\n",
    "    return a*x+b\n",
    "def rat_approx(x, a, b):\n",
    "    return a/(1+b*x)\n",
    "def main_func(x):\n",
    "    sigma=np.random.normal()\n",
    "    y=a*x+b+sigma\n",
    "    return y\n",
    "\n",
    "def sq_function_lin(params):\n",
    "    a, b=params\n",
    "    summ=0\n",
    "    for i in range (100):\n",
    "        summ=summ+(lin_approx(x_array[i], a, b)-y_array[i])**2\n",
    "    return summ\n",
    "\n",
    "def sq_function_rat(params):\n",
    "    a, b=params\n",
    "    summ=0\n",
    "    for i in range (100):\n",
    "        summ=summ+(rat_approx(x_array[i], a, b)-y_array[i])**2\n",
    "    return summ\n",
    "\n",
    "for i in range (100):    \n",
    "    x=i/100\n",
    "    y=main_func(x)\n",
    "    \n",
    "    x_array.append(x)\n",
    "    y_array.append(y)"
   ]
  },
  {
   "cell_type": "markdown",
   "metadata": {},
   "source": [
    "### Аппроксимация рациональной функцией "
   ]
  },
  {
   "cell_type": "code",
   "execution_count": 30,
   "metadata": {},
   "outputs": [
    {
     "name": "stdout",
     "output_type": "stream",
     "text": [
      "\n",
      "Исходные параметры:\n",
      "a=0.5535665325182213, b=0.4236215241449921\n",
      "Optimization terminated successfully.\n",
      "         Current function value: 98.886560\n",
      "         Iterations: 106\n",
      "         Function evaluations: 212\n",
      "\n",
      "Метод Нелдера-Мида:\n",
      "a=0.36528142387352824, b=-0.739064078863183\n",
      "\n",
      "Метод перебора:\n",
      "a=0.3652565690013026, b=-0.7390798745268512\n",
      "Optimization terminated successfully.\n",
      "         Current function value: 98.886560\n",
      "         Iterations: 5\n",
      "         Function evaluations: 188\n",
      "\n",
      "Метод Пауэлла:\n",
      "a=0.36527857090782, b=-0.7390697962523035\n"
     ]
    },
    {
     "data": {
      "image/png": "[encoded data removed]",
      "text/plain": [
       "<Figure size 1008x432 with 1 Axes>"
      ]
     },
     "metadata": {
      "needs_background": "light"
     },
     "output_type": "display_data"
    }
   ],
   "source": [
    "#Рациональная аппроксимация с минимизацией методом Нелдера-Мида \n",
    "print('\\nИсходные параметры:\\na='+str(a)+', b='+str(b))\n",
    "\n",
    "params=[0.5, 0.5]\n",
    "res = minimize(sq_function_rat, params,  method='nelder-mead',\n",
    "    options={'xtol': 1e-8, 'disp': True})\n",
    "nm_rat=res.x\n",
    "nm_rat_approx_array=[nm_rat[0]*x+nm_rat[1] for x in x_array]\n",
    "print('\\nМетод Нелдера-Мида:\\na='+str(nm_rat[0])+', b='+str(nm_rat[1]))\n",
    "\n",
    "#Рациональная аппроксимация с минимизацией методом перебора \n",
    "rranges = (slice(0, 1, 0.01), slice(0, 1, 0.01))\n",
    "bf_rat=brute(sq_function_rat, rranges, finish=fmin)\n",
    "bf_rat_approx_array=[bf_rat[0]*x+bf_rat[1] for x in x_array]\n",
    "print('\\nМетод перебора:\\na='+str(bf_rat[0])+', b='+str(bf_rat[1]))\n",
    "\n",
    "#Рациональная аппроксимация с минимизацией методом Пауэлла (вместо Гаусса) \n",
    "res = minimize(sq_function_rat, params,  method='powell',\n",
    "    options={'xtol': 1e-8, 'disp': True})\n",
    "pow_rat=res.x\n",
    "pow_rat_approx_array=[pow_rat[0]*x+pow_rat[1] for x in x_array]\n",
    "print('\\nМетод Пауэлла:\\na='+str(pow_rat[0])+', b='+str(pow_rat[1]))\n",
    "\n",
    "plt.rcParams['figure.figsize'] = [14, 6]\n",
    "fig, ax = plt.subplots()\n",
    "ax.plot(x_array, [el*a+b for el in x_array], color='DarkTurquoise', label='Порождающая функция')\n",
    "ax.plot(x_array, nm_rat_approx_array, color='red', label='Метод Нелдера-Мида')\n",
    "ax.plot(x_array, bf_rat_approx_array, color='SandyBrown', label='Метод перебора')\n",
    "ax.plot(x_array, pow_rat_approx_array, color='#9ACD32', label='Метод Пауэлла(Гаусса)')\n",
    "ax.scatter(x_array, y_array, color='#FFB6C1', label='Сгенерированные данные')\n",
    "ax.set(xlabel='x', ylabel='y',title='Рациональная аппроксимация')\n",
    "leg = plt.legend()\n",
    "ax.grid()\n",
    "plt.show()"
   ]
  },
  {
   "cell_type": "markdown",
   "metadata": {},
   "source": [
    "### Аппроксимация линейной функцией "
   ]
  },
  {
   "cell_type": "code",
   "execution_count": 31,
   "metadata": {},
   "outputs": [
    {
     "name": "stdout",
     "output_type": "stream",
     "text": [
      "\n",
      "Исходные параметры:\n",
      "a=0.5535665325182213, b=0.4236215241449921\n",
      "Optimization terminated successfully.\n",
      "         Current function value: 98.752942\n",
      "         Iterations: 68\n",
      "         Function evaluations: 133\n",
      "\n",
      "Метод Нелдера-Мида:\n",
      "a=0.9771876221670368, b=0.1675083997767762\n",
      "\n",
      "Метод перебора:\n",
      "a=0.9772066729631625, b=0.16750416781930838\n",
      "Optimization terminated successfully.\n",
      "         Current function value: 98.752942\n",
      "         Iterations: 3\n",
      "         Function evaluations: 112\n",
      "\n",
      "Метод Пауэлла:\n",
      "a=0.9771876358338504, b=0.16750838562958556\n"
     ]
    },
    {
     "data": {
      "image/png": "[encoded data removed]",
      "text/plain": [
       "<Figure size 1008x432 with 1 Axes>"
      ]
     },
     "metadata": {
      "needs_background": "light"
     },
     "output_type": "display_data"
    }
   ],
   "source": [
    "#Линейная аппроксимация с минимизацией методом Нелдера-Мида    \n",
    "print('\\nИсходные параметры:\\na='+str(a)+', b='+str(b))\n",
    "\n",
    "params=[0.5, 0.5]\n",
    "res = minimize(sq_function_lin, params,  method='nelder-mead',\n",
    "    options={'xtol': 1e-8, 'disp': True})\n",
    "nm_lin=res.x\n",
    "nm_lin_approx_array=[nm_lin[0]*x+nm_lin[1] for x in x_array]\n",
    "print('\\nМетод Нелдера-Мида:\\na='+str(nm_lin[0])+', b='+str(nm_lin[1]))\n",
    "\n",
    "#Линейная аппроксимация с минимизацией методом перебора \n",
    "rranges = (slice(0, 1, 0.01), slice(0, 1, 0.01))\n",
    "bf_lin=brute(sq_function_lin, rranges, finish=fmin)\n",
    "bf_lin_approx_array=[bf_lin[0]*x+bf_lin[1] for x in x_array]\n",
    "print('\\nМетод перебора:\\na='+str(bf_lin[0])+', b='+str(bf_lin[1]))\n",
    "\n",
    "#Линейная аппроксимация с минимизацией методом Пауэлла (вместо Гаусса) \n",
    "res = minimize(sq_function_lin, params,  method='powell',\n",
    "    options={'xtol': 1e-8, 'disp': True})\n",
    "pow_lin=res.x\n",
    "pow_lin_approx_array=[pow_lin[0]*x+pow_lin[1] for x in x_array]\n",
    "print('\\nМетод Пауэлла:\\na='+str(pow_lin[0])+', b='+str(pow_lin[1]))\n",
    "\n",
    "plt.rcParams['figure.figsize'] = [14, 6]\n",
    "fig, ax = plt.subplots()\n",
    "ax.plot(x_array, [el*a+b for el in x_array], color='DarkTurquoise', label='Порождающая функция')\n",
    "ax.plot(x_array, nm_lin_approx_array, color='red', label='Метод Нелдера-Мида')\n",
    "ax.plot(x_array, bf_lin_approx_array, color='SandyBrown', label='Метод перебора')\n",
    "ax.plot(x_array, pow_lin_approx_array, color='#9ACD32', label='Метод Пауэлла(Гаусса)')\n",
    "ax.scatter(x_array, y_array, color='#FFB6C1', label='Сгенерированные данные')\n",
    "ax.set(xlabel='x', ylabel='y',title='Линейная аппроксимация')\n",
    "leg = plt.legend()\n",
    "ax.grid()\n",
    "plt.show()"
   ]
  },
  {
   "cell_type": "code",
   "execution_count": null,
   "metadata": {},
   "outputs": [],
   "source": []
  },
  {
   "cell_type": "code",
   "execution_count": null,
   "metadata": {},
   "outputs": [],
   "source": []
  }
 ],
 "metadata": {
  "kernelspec": {
   "display_name": "Python 3",
   "language": "python",
   "name": "python3"
  },
  "language_info": {
   "codemirror_mode": {
    "name": "ipython",
    "version": 3
   },
   "file_extension": ".py",
   "mimetype": "text/x-python",
   "name": "python",
   "nbconvert_exporter": "python",
   "pygments_lexer": "ipython3",
   "version": "3.8.3"
  }
 },
 "nbformat": 4,
 "nbformat_minor": 4
}
